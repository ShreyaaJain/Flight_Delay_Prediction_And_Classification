{
 "cells": [
  {
   "cell_type": "code",
   "execution_count": 43,
   "metadata": {
    "collapsed": false
   },
   "outputs": [],
   "source": [
    "import sys\n",
    "import requests\n",
    "import os, shutil\n",
    "import glob\n",
    "from lxml import html\n",
    "import os\n",
    "import sys\n",
    "import logging \n",
    "import shutil \n",
    "import zipfile\n",
    "import httplib2\n",
    "from bs4 import BeautifulSoup, SoupStrainer\n",
    "import logging\n",
    "import requests\n",
    "import json\n",
    "import pandas as pd\n",
    "import numpy as np\n",
    "from sklearn import preprocessing\n",
    "from sklearn import preprocessing, cross_validation\n",
    "from sklearn.linear_model import LogisticRegression\n",
    "from sklearn import metrics\n",
    "from sklearn.metrics import roc_curve\n",
    "import urllib\n",
    "\n",
    "def initialize_part1():\n",
    "    if not os.path.exists('flightscsv'):\n",
    "        os.makedirs('flightscsv', mode=0o777, exist_ok=False)\n",
    "        print(\"Created Directory called flightscsv\")\n",
    "    else:\n",
    "        shutil.rmtree(os.path.join('flightscsv')) \n",
    "        os.makedirs('flightscsv', mode=0o777, exist_ok=False)\n",
    "        print(\"Created Directory called flightscsv\")\n",
    "        \n",
    "def get_data_for_year(year):\n",
    "    \n",
    "    try:\n",
    "        rs = requests.session()\n",
    "        api_link= 'http://stat-computing.org/dataexpo/2009/the-data.html'\n",
    "        result = requests.get(api_link)\n",
    "\n",
    "        current_page = BeautifulSoup(result.text,\"html.parser\")\n",
    "\n",
    "        print(\"beginning to Download sample files\")\n",
    "\n",
    "        for a in current_page.find_all('a', href=True):\n",
    "            if str(year) in a['href']:\n",
    "                url_pattern = 'http://stat-computing.org/dataexpo/2009/' + a['href']\n",
    "                req = rs.get(url_pattern,stream=True)\n",
    "                with open(os.path.join('flightscsv',str(year)+'.csv'), 'wb') as f:\n",
    "                    for block in req.iter_content(2048):\n",
    "                        f.write(block)\n",
    "        print(\"Finishing file download\")    \n",
    "   \n",
    "    except Exception as e:\n",
    "        print(str(e))\n",
    "    "
   ]
  },
  {
   "cell_type": "code",
   "execution_count": 44,
   "metadata": {
    "collapsed": false
   },
   "outputs": [
    {
     "name": "stdout",
     "output_type": "stream",
     "text": [
      "Created Directory called flightscsv\n",
      "beginning to Download sample files\n",
      "Finishing file download\n"
     ]
    }
   ],
   "source": [
    "initialize_part1()\n",
    "get_data_for_year(2008)"
   ]
  },
  {
   "cell_type": "code",
   "execution_count": null,
   "metadata": {
    "collapsed": true
   },
   "outputs": [],
   "source": []
  }
 ],
 "metadata": {
  "kernelspec": {
   "display_name": "Python [conda root]",
   "language": "python",
   "name": "conda-root-py"
  },
  "language_info": {
   "codemirror_mode": {
    "name": "ipython",
    "version": 3
   },
   "file_extension": ".py",
   "mimetype": "text/x-python",
   "name": "python",
   "nbconvert_exporter": "python",
   "pygments_lexer": "ipython3",
   "version": "3.5.2"
  }
 },
 "nbformat": 4,
 "nbformat_minor": 2
}
